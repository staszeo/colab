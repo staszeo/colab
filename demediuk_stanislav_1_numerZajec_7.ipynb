{
  "nbformat": 4,
  "nbformat_minor": 0,
  "metadata": {
    "colab": {
      "provenance": []
    },
    "kernelspec": {
      "name": "python3",
      "display_name": "Python 3"
    },
    "language_info": {
      "name": "python"
    }
  },
  "cells": [
    {
      "cell_type": "code",
      "execution_count": 1,
      "metadata": {
        "colab": {
          "base_uri": "https://localhost:8080/"
        },
        "collapsed": true,
        "id": "VsgUiWQHArNf",
        "outputId": "b5088156-91b1-4056-a7c7-bdd6e567b69b"
      },
      "outputs": [
        {
          "output_type": "stream",
          "name": "stdout",
          "text": [
            "Collecting pl-core-news-lg==3.7.0\n",
            "  Downloading https://github.com/explosion/spacy-models/releases/download/pl_core_news_lg-3.7.0/pl_core_news_lg-3.7.0-py3-none-any.whl (573.7 MB)\n",
            "\u001b[2K     \u001b[90m━━━━━━━━━━━━━━━━━━━━━━━━━━━━━━━━━━━━━━━━\u001b[0m \u001b[32m573.7/573.7 MB\u001b[0m \u001b[31m3.2 MB/s\u001b[0m eta \u001b[36m0:00:00\u001b[0m\n",
            "\u001b[?25hRequirement already satisfied: spacy<3.8.0,>=3.7.0 in /usr/local/lib/python3.10/dist-packages (from pl-core-news-lg==3.7.0) (3.7.5)\n",
            "Requirement already satisfied: spacy-legacy<3.1.0,>=3.0.11 in /usr/local/lib/python3.10/dist-packages (from spacy<3.8.0,>=3.7.0->pl-core-news-lg==3.7.0) (3.0.12)\n",
            "Requirement already satisfied: spacy-loggers<2.0.0,>=1.0.0 in /usr/local/lib/python3.10/dist-packages (from spacy<3.8.0,>=3.7.0->pl-core-news-lg==3.7.0) (1.0.5)\n",
            "Requirement already satisfied: murmurhash<1.1.0,>=0.28.0 in /usr/local/lib/python3.10/dist-packages (from spacy<3.8.0,>=3.7.0->pl-core-news-lg==3.7.0) (1.0.11)\n",
            "Requirement already satisfied: cymem<2.1.0,>=2.0.2 in /usr/local/lib/python3.10/dist-packages (from spacy<3.8.0,>=3.7.0->pl-core-news-lg==3.7.0) (2.0.10)\n",
            "Requirement already satisfied: preshed<3.1.0,>=3.0.2 in /usr/local/lib/python3.10/dist-packages (from spacy<3.8.0,>=3.7.0->pl-core-news-lg==3.7.0) (3.0.9)\n",
            "Requirement already satisfied: thinc<8.3.0,>=8.2.2 in /usr/local/lib/python3.10/dist-packages (from spacy<3.8.0,>=3.7.0->pl-core-news-lg==3.7.0) (8.2.5)\n",
            "Requirement already satisfied: wasabi<1.2.0,>=0.9.1 in /usr/local/lib/python3.10/dist-packages (from spacy<3.8.0,>=3.7.0->pl-core-news-lg==3.7.0) (1.1.3)\n",
            "Requirement already satisfied: srsly<3.0.0,>=2.4.3 in /usr/local/lib/python3.10/dist-packages (from spacy<3.8.0,>=3.7.0->pl-core-news-lg==3.7.0) (2.5.0)\n",
            "Requirement already satisfied: catalogue<2.1.0,>=2.0.6 in /usr/local/lib/python3.10/dist-packages (from spacy<3.8.0,>=3.7.0->pl-core-news-lg==3.7.0) (2.0.10)\n",
            "Requirement already satisfied: weasel<0.5.0,>=0.1.0 in /usr/local/lib/python3.10/dist-packages (from spacy<3.8.0,>=3.7.0->pl-core-news-lg==3.7.0) (0.4.1)\n",
            "Requirement already satisfied: typer<1.0.0,>=0.3.0 in /usr/local/lib/python3.10/dist-packages (from spacy<3.8.0,>=3.7.0->pl-core-news-lg==3.7.0) (0.15.1)\n",
            "Requirement already satisfied: tqdm<5.0.0,>=4.38.0 in /usr/local/lib/python3.10/dist-packages (from spacy<3.8.0,>=3.7.0->pl-core-news-lg==3.7.0) (4.67.1)\n",
            "Requirement already satisfied: requests<3.0.0,>=2.13.0 in /usr/local/lib/python3.10/dist-packages (from spacy<3.8.0,>=3.7.0->pl-core-news-lg==3.7.0) (2.32.3)\n",
            "Requirement already satisfied: pydantic!=1.8,!=1.8.1,<3.0.0,>=1.7.4 in /usr/local/lib/python3.10/dist-packages (from spacy<3.8.0,>=3.7.0->pl-core-news-lg==3.7.0) (2.10.4)\n",
            "Requirement already satisfied: jinja2 in /usr/local/lib/python3.10/dist-packages (from spacy<3.8.0,>=3.7.0->pl-core-news-lg==3.7.0) (3.1.5)\n",
            "Requirement already satisfied: setuptools in /usr/local/lib/python3.10/dist-packages (from spacy<3.8.0,>=3.7.0->pl-core-news-lg==3.7.0) (75.1.0)\n",
            "Requirement already satisfied: packaging>=20.0 in /usr/local/lib/python3.10/dist-packages (from spacy<3.8.0,>=3.7.0->pl-core-news-lg==3.7.0) (24.2)\n",
            "Requirement already satisfied: langcodes<4.0.0,>=3.2.0 in /usr/local/lib/python3.10/dist-packages (from spacy<3.8.0,>=3.7.0->pl-core-news-lg==3.7.0) (3.5.0)\n",
            "Requirement already satisfied: numpy>=1.19.0 in /usr/local/lib/python3.10/dist-packages (from spacy<3.8.0,>=3.7.0->pl-core-news-lg==3.7.0) (1.26.4)\n",
            "Requirement already satisfied: language-data>=1.2 in /usr/local/lib/python3.10/dist-packages (from langcodes<4.0.0,>=3.2.0->spacy<3.8.0,>=3.7.0->pl-core-news-lg==3.7.0) (1.3.0)\n",
            "Requirement already satisfied: annotated-types>=0.6.0 in /usr/local/lib/python3.10/dist-packages (from pydantic!=1.8,!=1.8.1,<3.0.0,>=1.7.4->spacy<3.8.0,>=3.7.0->pl-core-news-lg==3.7.0) (0.7.0)\n",
            "Requirement already satisfied: pydantic-core==2.27.2 in /usr/local/lib/python3.10/dist-packages (from pydantic!=1.8,!=1.8.1,<3.0.0,>=1.7.4->spacy<3.8.0,>=3.7.0->pl-core-news-lg==3.7.0) (2.27.2)\n",
            "Requirement already satisfied: typing-extensions>=4.12.2 in /usr/local/lib/python3.10/dist-packages (from pydantic!=1.8,!=1.8.1,<3.0.0,>=1.7.4->spacy<3.8.0,>=3.7.0->pl-core-news-lg==3.7.0) (4.12.2)\n",
            "Requirement already satisfied: charset-normalizer<4,>=2 in /usr/local/lib/python3.10/dist-packages (from requests<3.0.0,>=2.13.0->spacy<3.8.0,>=3.7.0->pl-core-news-lg==3.7.0) (3.4.1)\n",
            "Requirement already satisfied: idna<4,>=2.5 in /usr/local/lib/python3.10/dist-packages (from requests<3.0.0,>=2.13.0->spacy<3.8.0,>=3.7.0->pl-core-news-lg==3.7.0) (3.10)\n",
            "Requirement already satisfied: urllib3<3,>=1.21.1 in /usr/local/lib/python3.10/dist-packages (from requests<3.0.0,>=2.13.0->spacy<3.8.0,>=3.7.0->pl-core-news-lg==3.7.0) (2.3.0)\n",
            "Requirement already satisfied: certifi>=2017.4.17 in /usr/local/lib/python3.10/dist-packages (from requests<3.0.0,>=2.13.0->spacy<3.8.0,>=3.7.0->pl-core-news-lg==3.7.0) (2024.12.14)\n",
            "Requirement already satisfied: blis<0.8.0,>=0.7.8 in /usr/local/lib/python3.10/dist-packages (from thinc<8.3.0,>=8.2.2->spacy<3.8.0,>=3.7.0->pl-core-news-lg==3.7.0) (0.7.11)\n",
            "Requirement already satisfied: confection<1.0.0,>=0.0.1 in /usr/local/lib/python3.10/dist-packages (from thinc<8.3.0,>=8.2.2->spacy<3.8.0,>=3.7.0->pl-core-news-lg==3.7.0) (0.1.5)\n",
            "Requirement already satisfied: click>=8.0.0 in /usr/local/lib/python3.10/dist-packages (from typer<1.0.0,>=0.3.0->spacy<3.8.0,>=3.7.0->pl-core-news-lg==3.7.0) (8.1.8)\n",
            "Requirement already satisfied: shellingham>=1.3.0 in /usr/local/lib/python3.10/dist-packages (from typer<1.0.0,>=0.3.0->spacy<3.8.0,>=3.7.0->pl-core-news-lg==3.7.0) (1.5.4)\n",
            "Requirement already satisfied: rich>=10.11.0 in /usr/local/lib/python3.10/dist-packages (from typer<1.0.0,>=0.3.0->spacy<3.8.0,>=3.7.0->pl-core-news-lg==3.7.0) (13.9.4)\n",
            "Requirement already satisfied: cloudpathlib<1.0.0,>=0.7.0 in /usr/local/lib/python3.10/dist-packages (from weasel<0.5.0,>=0.1.0->spacy<3.8.0,>=3.7.0->pl-core-news-lg==3.7.0) (0.20.0)\n",
            "Requirement already satisfied: smart-open<8.0.0,>=5.2.1 in /usr/local/lib/python3.10/dist-packages (from weasel<0.5.0,>=0.1.0->spacy<3.8.0,>=3.7.0->pl-core-news-lg==3.7.0) (7.1.0)\n",
            "Requirement already satisfied: MarkupSafe>=2.0 in /usr/local/lib/python3.10/dist-packages (from jinja2->spacy<3.8.0,>=3.7.0->pl-core-news-lg==3.7.0) (3.0.2)\n",
            "Requirement already satisfied: marisa-trie>=1.1.0 in /usr/local/lib/python3.10/dist-packages (from language-data>=1.2->langcodes<4.0.0,>=3.2.0->spacy<3.8.0,>=3.7.0->pl-core-news-lg==3.7.0) (1.2.1)\n",
            "Requirement already satisfied: markdown-it-py>=2.2.0 in /usr/local/lib/python3.10/dist-packages (from rich>=10.11.0->typer<1.0.0,>=0.3.0->spacy<3.8.0,>=3.7.0->pl-core-news-lg==3.7.0) (3.0.0)\n",
            "Requirement already satisfied: pygments<3.0.0,>=2.13.0 in /usr/local/lib/python3.10/dist-packages (from rich>=10.11.0->typer<1.0.0,>=0.3.0->spacy<3.8.0,>=3.7.0->pl-core-news-lg==3.7.0) (2.18.0)\n",
            "Requirement already satisfied: wrapt in /usr/local/lib/python3.10/dist-packages (from smart-open<8.0.0,>=5.2.1->weasel<0.5.0,>=0.1.0->spacy<3.8.0,>=3.7.0->pl-core-news-lg==3.7.0) (1.17.0)\n",
            "Requirement already satisfied: mdurl~=0.1 in /usr/local/lib/python3.10/dist-packages (from markdown-it-py>=2.2.0->rich>=10.11.0->typer<1.0.0,>=0.3.0->spacy<3.8.0,>=3.7.0->pl-core-news-lg==3.7.0) (0.1.2)\n",
            "Installing collected packages: pl-core-news-lg\n",
            "Successfully installed pl-core-news-lg-3.7.0\n",
            "\u001b[38;5;2m✔ Download and installation successful\u001b[0m\n",
            "You can now load the package via spacy.load('pl_core_news_lg')\n",
            "\u001b[38;5;3m⚠ Restart to reload dependencies\u001b[0m\n",
            "If you are in a Jupyter or Colab notebook, you may need to restart Python in\n",
            "order to load all the package's dependencies. You can do this by selecting the\n",
            "'Restart kernel' or 'Restart runtime' option.\n"
          ]
        }
      ],
      "source": [
        "!python -m spacy download pl_core_news_lg"
      ]
    },
    {
      "cell_type": "code",
      "source": [
        "import spacy"
      ],
      "metadata": {
        "id": "qV9axBB_BKD1"
      },
      "execution_count": 2,
      "outputs": []
    },
    {
      "cell_type": "code",
      "source": [
        "nlp = spacy.load(\"pl_core_news_lg\")"
      ],
      "metadata": {
        "id": "4e8Jq0ERBPkF"
      },
      "execution_count": 3,
      "outputs": []
    },
    {
      "cell_type": "code",
      "source": [
        "#1. Stwórz plik txt w który wkleisz treść jednego pełnego artykułu."
      ],
      "metadata": {
        "id": "bgOZoiKNBYDC"
      },
      "execution_count": null,
      "outputs": []
    },
    {
      "cell_type": "code",
      "source": [
        "with open (\"/content/elon.txt\", mode = \"r\", encoding = \"utf-8\") as plik:\n",
        "  elon = plik.read()"
      ],
      "metadata": {
        "id": "FGfosLbqBvmk"
      },
      "execution_count": 5,
      "outputs": []
    },
    {
      "cell_type": "code",
      "source": [
        "elon"
      ],
      "metadata": {
        "colab": {
          "base_uri": "https://localhost:8080/",
          "height": 140
        },
        "id": "dMmwEmcaB-qt",
        "outputId": "b256bfd2-bb52-4c7c-c5ac-e3f8d7fa14fc"
      },
      "execution_count": 6,
      "outputs": [
        {
          "output_type": "execute_result",
          "data": {
            "text/plain": [
              "'\\nElon Musk zaatakował niedawno premiera Wielkiej Brytanii i nawoływał do uwolnienia skrajnie prawicowego aktywisty. Teraz publiczne komentarze najbogatszego człowieka na świecie skomentował jego ojciec. Pochodzący z RPA Errol Musk stwierdził, że opinia publiczna powinna ignorować wypowiedzi jego syna.\\nOjciec Elona Muska reaguje na wypowiedź syna. \"Powiedzcie mu, żeby spadał\" GIANLUIGI GUERCIA / POOL / AFP / East News\\nErrol Musk skomentował ostatnie poczynania swojego syna, Elona (zdj. Evan Vucci/Associated Press)\\nREKLAMA\\nREKLAMA\\n‹ wróć\\n\\n    Więcej takich historii znajdziesz na stronie głównej Onetu\\n\\nElon Musk 2 stycznia zaatakował na swoim portalu X premiera Wielkiej Brytanii, Keira Starmera. Miliarder zarzucał politykowi, że jako dyrektor prokuratury koronnej w latach 2008-13 był \"współwinny\" działalności gangów (tzw. grooming gangs) odpowiedzialnych za manipulowanie i uwodzenie ofiar, głównie dzieci i młodzieży, w celu ich wykorzystywania seksualnego. Według Muska brytyjski premier powinien trafić do więzienia.\\nDalszy ciąg materiału pod wideo\\n\\n    Elon Musk wspiera partię AfD na platformie X. Komisja Europejska reaguje\\n\\nDo ataków ze strony właściciela Tesli odniósł się jego ojciec. W rozmowie ze stacją radiową LBC Errol Musk stwierdził, że ludzie nie powinni przykładać większej wagi do słów jego syna. \"Ludzie nie muszą słuchać wszystkiego, co mówi. Powiem: nie przejmujcie się tym. Powiedzcie mu, żeby spadał\" — podsumował i dodał, że setki tysięcy ludzi udostępnia te same informacje, a jego syn jest po prostu \"bardziej widoczny\".\\nREKLAMA\\n\\nJednocześnie Errol Musk zdradził, że jego syn czuje \"ogromny związek z Wielką Brytanią\" od chwili, gdy w dzieciństwie pojechał tam po raz pierwszy z rodziną, a wiele lat później wynajął jeden z angielskich zamków na tydzień, by świętować swoje 30. urodziny.\\nKeir Stramer odpowiada Elonowi Muskowi. Mówi o dezinformacji\\n\\nKeir Stramer odpowiedział właścicielowi portalu X w poniedziałek 6 stycznia. \"Ci, którzy rozpowszechniają kłamstwa i dezinformację tak daleko i tak szeroko, jak to tylko możliwe, nie są zainteresowani ofiarami, ale samymi sobą\" — stwierdził polityk.\\n\\nPremier i lider Partii Pracy dodał, że gdy był szefem prokuratury w latach 2008-2013 \"zmienił podejście\" do ofiar wykorzystywania seksualnego, a liczba dochodzeń była w tym czasie największa w historii.\\n\\n    Olaf Scholz odpowiada Elonowi Muskowi. Nazwał szefa platformy X \"trollem\"\\n\\nAtaki na premiera Wielkiej Brytanii i rząd Partii Pracy to nie wszystko. Kilka dni temu Elon Musk opowiedział się za zwolnieniem z więzienia współzałożyciela skrajnie prawicowej organizacji Angielska Liga Obrony (EDL) Tommy’ego Robinsona. Został on skazany jesienią 2024 r. na półtora roku więzienia za złamanie zakazu sądowego i wyemitowanie filmu oczerniającego syryjskiego ucznia.'"
            ],
            "application/vnd.google.colaboratory.intrinsic+json": {
              "type": "string"
            }
          },
          "metadata": {},
          "execution_count": 6
        }
      ]
    },
    {
      "cell_type": "code",
      "source": [
        "#2. Wyświetlcie na ekranie wyniki analizy morfosyntaktycznej dla pierwszych 1000 znaków"
      ],
      "metadata": {
        "id": "bxdQ9y47CA64"
      },
      "execution_count": null,
      "outputs": []
    },
    {
      "cell_type": "code",
      "source": [
        "elon2 = elon[:1000]"
      ],
      "metadata": {
        "id": "0SIVODz6CHQU"
      },
      "execution_count": 10,
      "outputs": []
    },
    {
      "cell_type": "code",
      "source": [
        "doc = nlp(elon2)"
      ],
      "metadata": {
        "id": "6JInvuCFCKS4"
      },
      "execution_count": 8,
      "outputs": []
    },
    {
      "cell_type": "code",
      "source": [
        "for token in doc:\n",
        "    print(token.text, token.lemma_, token.pos_, token.tag_, token.shape_, token.is_stop)"
      ],
      "metadata": {
        "colab": {
          "base_uri": "https://localhost:8080/"
        },
        "id": "5jZDzW19Cjn4",
        "outputId": "09943fc1-52a5-4846-bf32-f28d85bfcc35"
      },
      "execution_count": 11,
      "outputs": [
        {
          "output_type": "stream",
          "name": "stdout",
          "text": [
            "\n",
            " \n",
            " SPACE _SP \n",
            " False\n",
            "Elon Elon PROPN SUBST Xxxx False\n",
            "Musk Musk PROPN SUBST Xxxx False\n",
            "zaatakował zaatakować VERB PRAET xxxx False\n",
            "niedawno niedawno ADV ADV xxxx False\n",
            "premiera premier NOUN SUBST xxxx False\n",
            "Wielkiej Wielki ADJ ADJ Xxxxx False\n",
            "Brytanii Brytania PROPN SUBST Xxxxx False\n",
            "i i CCONJ CONJ x True\n",
            "nawoływał nawoływać VERB PRAET xxxx False\n",
            "do do ADP PREP xx True\n",
            "uwolnienia uwolnić NOUN GER xxxx False\n",
            "skrajnie skrajnie ADV ADV xxxx False\n",
            "prawicowego prawicowy ADJ ADJ xxxx False\n",
            "aktywisty aktywista NOUN SUBST xxxx False\n",
            ". . PUNCT INTERP . False\n",
            "Teraz teraz ADV ADV Xxxxx True\n",
            "publiczne publiczny ADJ ADJ xxxx False\n",
            "komentarze komentarz NOUN SUBST xxxx False\n",
            "najbogatszego najbogatszy ADJ ADJ xxxx False\n",
            "człowieka człowiek NOUN SUBST xxxx False\n",
            "na na ADP PREP xx True\n",
            "świecie świat NOUN SUBST xxxx False\n",
            "skomentował skomentować VERB PRAET xxxx False\n",
            "jego on PRON PPRON3 xxxx True\n",
            "ojciec ojciec NOUN SUBST xxxx False\n",
            ". . PUNCT INTERP . False\n",
            "Pochodzący Pochodzący NOUN PACT Xxxxx False\n",
            "z z ADP PREP x True\n",
            "RPA RPA PROPN SUBST XXX False\n",
            "Errol Errol PROPN SUBST Xxxxx False\n",
            "Musk Musk PROPN SUBST Xxxx False\n",
            "stwierdził stwierdzić VERB ADJ xxxx False\n",
            ", , PUNCT INTERP , False\n",
            "że że SCONJ COMP xx True\n",
            "opinia opinia NOUN SUBST xxxx False\n",
            "publiczna publiczny ADJ ADJ xxxx False\n",
            "powinna powinien VERB WINIEN xxxx True\n",
            "ignorować ignorować VERB INF xxxx False\n",
            "wypowiedzi wypowiedź NOUN SUBST xxxx False\n",
            "jego on PRON PPRON3 xxxx True\n",
            "syna syn NOUN SUBST xxxx False\n",
            ". . PUNCT INTERP . False\n",
            "\n",
            " \n",
            " SPACE _SP \n",
            " False\n",
            "Ojciec ojciec NOUN SUBST Xxxxx False\n",
            "Elona Elona PROPN PPAS Xxxxx False\n",
            "Muska Musk PROPN SUBST Xxxxx False\n",
            "reaguje reagować VERB FIN xxxx False\n",
            "na na ADP PREP xx True\n",
            "wypowiedź wypowiedź NOUN SUBST xxxx False\n",
            "syna syn NOUN SUBST xxxx False\n",
            ". . PUNCT INTERP . False\n",
            "\" \" PUNCT INTERP \" False\n",
            "Powiedzcie Powiedzcie VERB IMPT Xxxxx False\n",
            "mu on PRON PPRON3 xx True\n",
            ", , PUNCT INTERP , False\n",
            "żeby żeby SCONJ COMP xxxx True\n",
            "spadał spadać VERB PRAET xxxx False\n",
            "\" \" PUNCT INTERP \" False\n",
            "GIANLUIGI GIANLUIGI PROPN SUBST XXXX False\n",
            "GUERCIA GUERCIA PROPN SUBST XXXX False\n",
            "/ / PUNCT INTERP / False\n",
            "POOL POOL NOUN SUBST XXXX False\n",
            "/ / PUNCT INTERP / False\n",
            "AFP AFP PROPN SUBST XXX False\n",
            "/ / PUNCT INTERP / False\n",
            "East East PROPN SUBST Xxxx False\n",
            "News news PROPN SUBST Xxxx False\n",
            "\n",
            " \n",
            " SPACE _SP \n",
            " False\n",
            "Errol Errol PROPN SUBST Xxxxx False\n",
            "Musk Musk PROPN SUBST Xxxx False\n",
            "skomentował skomentować VERB PRAET xxxx False\n",
            "ostatnie ostatni ADJ ADJ xxxx False\n",
            "poczynania poczynanie NOUN SUBST xxxx False\n",
            "swojego swój DET ADJ xxxx False\n",
            "syna syn NOUN SUBST xxxx False\n",
            ", , PUNCT INTERP , False\n",
            "Elona Elon ADJ SUBST Xxxxx False\n",
            "( ( PUNCT INTERP ( False\n",
            "zdj zdj NOUN BREV xxx False\n",
            ". . PUNCT INTERP . False\n",
            "Evan Evan PROPN SUBST Xxxx False\n",
            "Vucci Vucci PROPN SUBST Xxxxx False\n",
            "/ / PUNCT SUBST / False\n",
            "Associated Associated PROPN SUBST Xxxxx False\n",
            "Press Press PROPN SUBST Xxxxx False\n",
            ") ) PUNCT SUBST ) False\n",
            "\n",
            " \n",
            " SPACE _SP \n",
            " False\n",
            "REKLAMA REKLAMA PROPN SUBST XXXX False\n",
            "\n",
            " \n",
            " SPACE _SP \n",
            " False\n",
            "REKLAMA REKLAMA PROPN SUBST XXXX False\n",
            "\n",
            " \n",
            " SPACE _SP \n",
            " False\n",
            "‹ ‹ NOUN SUBST ‹ False\n",
            "wróć wrócić VERB SUBST xxxx False\n",
            "\n",
            "\n",
            "     \n",
            "\n",
            "     SPACE _SP \n",
            "\n",
            "     False\n",
            "Więcej więcej DET NUM Xxxxx True\n",
            "takich taki DET ADJ xxxx True\n",
            "historii historia NOUN SUBST xxxx False\n",
            "znajdziesz znajdziesz VERB FIN xxxx False\n",
            "na na ADP PREP xx True\n",
            "stronie strona NOUN SUBST xxxx False\n",
            "głównej główny ADJ ADJ xxxx False\n",
            "Onetu Onet PROPN SUBST Xxxxx False\n",
            "\n",
            "\n",
            " \n",
            "\n",
            " SPACE _SP \n",
            "\n",
            " False\n",
            "Elon Elon PROPN SUBST Xxxx False\n",
            "Musk Musk PROPN SUBST Xxxx False\n",
            "2 2 ADJ ADJ d False\n",
            "stycznia styczeń NOUN SUBST xxxx False\n",
            "zaatakował zaatakować VERB PRAET xxxx False\n",
            "na na ADP PREP xx True\n",
            "swoim swój DET ADJ xxxx False\n",
            "portalu portal NOUN SUBST xxxx False\n",
            "X X ADJ ADJ X False\n",
            "premiera premier NOUN SUBST xxxx False\n",
            "Wielkiej Wielki ADJ ADJ Xxxxx False\n",
            "Brytanii Brytania PROPN SUBST Xxxxx False\n",
            ", , PUNCT INTERP , False\n",
            "Keira Keira PROPN SUBST Xxxxx False\n",
            "Starmera Starmer PROPN SUBST Xxxxx False\n",
            ". . PUNCT INTERP . False\n",
            "Miliarder Miliarder PROPN SUBST Xxxxx False\n",
            "zarzucał zarzucać VERB PRAET xxxx False\n",
            "politykowi polityk NOUN SUBST xxxx False\n",
            ", , PUNCT INTERP , False\n",
            "że że SCONJ COMP xx True\n",
            "jako jako SCONJ CONJ xxxx True\n",
            "dyrektor dyrektor NOUN SUBST xxxx False\n",
            "prokuratury prokuratura NOUN SUBST xxxx False\n",
            "koronnej koronny ADJ ADJ xxxx False\n",
            "w w ADP PREP x True\n",
            "latach rok NOUN SUBST xxxx False\n",
            "2008 2008 X ADJ dddd False\n",
            "- - PUNCT SUBST - False\n",
            "13 13 X NUM dd False\n",
            "był być AUX PRAET xxx True\n",
            "\" \" PUNCT INTERP \" False\n",
            "współwinny współwinny ADJ SUBST xxxx False\n",
            "\" \" PUNCT INTERP \" False\n",
            "działalności działalność NOUN SUBST xxxx False\n",
            "gangów gang NOUN SUBST xxxx False\n",
            "( ( PUNCT SUBST ( False\n",
            "tzw tak zwany X BREV xxx True\n",
            ". . PUNCT INTERP . False\n",
            "grooming grooming X SUBST xxxx False\n",
            "gangs gangs ADJ SUBST xxxx False\n",
            ") ) PUNCT INTERP ) False\n",
            "odpowiedzialnych odpowiedzialny ADJ ADJ xxxx False\n",
            "za za ADP PREP xx True\n",
            "manipulowanie manipulować NOUN GER xxxx False\n",
            "i i CCONJ CONJ x True\n",
            "uwodzenie uwodzyć NOUN GER xxxx False\n",
            "ofiar ofiara NOUN SUBST xxxx False\n",
            ", , PUNCT INTERP , False\n",
            "głównie głównie ADV QUB xxxx False\n",
            "dzieci dziecko NOUN SUBST xxxx False\n",
            "i i CCONJ CONJ x True\n",
            "młodzieży młodzież NOUN SUBST xxxx False\n",
            ", , PUNCT INTERP , False\n",
            "w w ADP PREP x True\n",
            "celu cel NOUN SUBST xxxx False\n",
            "ich on PRON PPRON3 xxx True\n",
            "wykorzystywania wykorzystywać NOUN GER xxxx False\n",
            "seksualnego seksualny ADJ ADJ xxxx False\n",
            ". . PUNCT INTERP . False\n",
            "Według według ADP PREP Xxxxx True\n",
            "Muska Musk PROPN SUBST Xxxxx False\n",
            "brytyjski brytyjski ADJ ADJ xxxx False\n",
            "premier premier NOUN SUBST xxxx False\n",
            "p pan X SUBST x False\n"
          ]
        }
      ]
    },
    {
      "cell_type": "code",
      "source": [
        "#3. Wyświetlcie na ekranie wszystkie NERy dla całego tekstu"
      ],
      "metadata": {
        "id": "jl-4-1drCtDi"
      },
      "execution_count": null,
      "outputs": []
    },
    {
      "cell_type": "code",
      "source": [
        "doc2 = nlp(elon)"
      ],
      "metadata": {
        "id": "-gOEo972Copv"
      },
      "execution_count": 12,
      "outputs": []
    },
    {
      "cell_type": "code",
      "source": [
        "for ent in doc2.ents:\n",
        "    print(ent.text, ent.label_)"
      ],
      "metadata": {
        "colab": {
          "base_uri": "https://localhost:8080/"
        },
        "id": "xTpDEFi7CzIo",
        "outputId": "808ea9cc-ec44-4e32-e789-db8ffa85dfe3"
      },
      "execution_count": 13,
      "outputs": [
        {
          "output_type": "stream",
          "name": "stdout",
          "text": [
            "Elon Musk persName\n",
            "Wielkiej Brytanii placeName\n",
            "RPA placeName\n",
            "Errol Musk persName\n",
            "Elona Muska persName\n",
            "AFP orgName\n",
            "East News\n",
            " orgName\n",
            "Errol Musk persName\n",
            "Elona persName\n",
            "Evan Vucci persName\n",
            "Associated Press orgName\n",
            "Elon Musk persName\n",
            "2 stycznia date\n",
            "Wielkiej Brytanii placeName\n",
            "Keira Starmera persName\n",
            "Miliarder persName\n",
            "latach 2008 date\n",
            "13 date\n",
            "Muska persName\n",
            "brytyjski placeName\n",
            "Elon Musk persName\n",
            "AfD orgName\n",
            "Komisja Europejska orgName\n",
            "Tesli orgName\n",
            "Errol Musk persName\n",
            "Wielką Brytanią placeName\n",
            "angielskich placeName\n",
            "Elonowi Muskowi persName\n",
            "Keir Stramer persName\n",
            "6 stycznia date\n",
            "Partii Pracy orgName\n",
            "latach 2008 date\n",
            "2013 date\n",
            "Olaf Scholz persName\n",
            "Elonowi Muskowi persName\n",
            "Wielkiej Brytanii placeName\n",
            "Partii Pracy orgName\n",
            "Elon Musk persName\n",
            "Angielska Liga Obrony orgName\n",
            "EDL orgName\n",
            "Tommy’ego Robinsona persName\n",
            "2024 r. date\n",
            "syryjskiego placeName\n"
          ]
        }
      ]
    },
    {
      "cell_type": "code",
      "source": [
        "#4. Napiszcie kod, który zlicza ile jest osób (persName) oraz organizacji (orgName) w waszym tekście"
      ],
      "metadata": {
        "id": "3k6CPwSiCvA6"
      },
      "execution_count": null,
      "outputs": []
    },
    {
      "cell_type": "code",
      "source": [
        "liczba = 0\n",
        "for ent in doc2.ents:\n",
        "  if ent.label_ == \"persName\":\n",
        "    liczba += 1\n",
        "print(liczba)"
      ],
      "metadata": {
        "colab": {
          "base_uri": "https://localhost:8080/"
        },
        "id": "ATWTkWUZC3Gg",
        "outputId": "831c7cfa-6c06-467f-87b0-1fcff4441600"
      },
      "execution_count": 14,
      "outputs": [
        {
          "output_type": "stream",
          "name": "stdout",
          "text": [
            "18\n"
          ]
        }
      ]
    },
    {
      "cell_type": "code",
      "source": [
        "liczba = 0\n",
        "for ent in doc2.ents:\n",
        "  if ent.label_ == \"orgName\":\n",
        "    liczba += 1\n",
        "print(liczba)"
      ],
      "metadata": {
        "colab": {
          "base_uri": "https://localhost:8080/"
        },
        "id": "sieEvcAyC8Q5",
        "outputId": "22d1d4d8-a389-4a66-e2e8-0eeaf86f20af"
      },
      "execution_count": 15,
      "outputs": [
        {
          "output_type": "stream",
          "name": "stdout",
          "text": [
            "10\n"
          ]
        }
      ]
    }
  ]
}