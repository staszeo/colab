{
  "nbformat": 4,
  "nbformat_minor": 0,
  "metadata": {
    "colab": {
      "provenance": []
    },
    "kernelspec": {
      "name": "python3",
      "display_name": "Python 3"
    },
    "language_info": {
      "name": "python"
    }
  },
  "cells": [
    {
      "cell_type": "code",
      "source": [
        "#Zadanie1"
      ],
      "metadata": {
        "id": "Md4fGh5UA3zz"
      },
      "execution_count": null,
      "outputs": []
    },
    {
      "cell_type": "code",
      "execution_count": null,
      "metadata": {
        "id": "33fNcD-Z9pI2"
      },
      "outputs": [],
      "source": [
        "ciag_znakow = \"Uwielbiam zajęcia z programowania\""
      ]
    },
    {
      "cell_type": "code",
      "source": [
        "type(ciag_znakow)"
      ],
      "metadata": {
        "colab": {
          "base_uri": "https://localhost:8080/"
        },
        "id": "XflcY3T6-3_9",
        "outputId": "4ce97e2b-f8af-442c-e294-3fdc63c793bb"
      },
      "execution_count": null,
      "outputs": [
        {
          "output_type": "execute_result",
          "data": {
            "text/plain": [
              "str"
            ]
          },
          "metadata": {},
          "execution_count": 26
        }
      ]
    },
    {
      "cell_type": "code",
      "source": [
        "ciag_znakow[13:23]"
      ],
      "metadata": {
        "colab": {
          "base_uri": "https://localhost:8080/",
          "height": 35
        },
        "id": "bGFXiXFn-6VE",
        "outputId": "2a05eb94-83bd-4646-f16c-ebcf9f663323"
      },
      "execution_count": null,
      "outputs": [
        {
          "output_type": "execute_result",
          "data": {
            "text/plain": [
              "'ęcia z pro'"
            ],
            "application/vnd.google.colaboratory.intrinsic+json": {
              "type": "string"
            }
          },
          "metadata": {},
          "execution_count": 27
        }
      ]
    },
    {
      "cell_type": "code",
      "source": [
        "len(ciag_znakow)"
      ],
      "metadata": {
        "colab": {
          "base_uri": "https://localhost:8080/"
        },
        "id": "olgpdDFZIMtU",
        "outputId": "d4e539e9-3212-4809-f95c-b1eb41ce0a1b"
      },
      "execution_count": null,
      "outputs": [
        {
          "output_type": "execute_result",
          "data": {
            "text/plain": [
              "33"
            ]
          },
          "metadata": {},
          "execution_count": 101
        }
      ]
    },
    {
      "cell_type": "code",
      "source": [
        "ciag_znakow[-33:]"
      ],
      "metadata": {
        "colab": {
          "base_uri": "https://localhost:8080/",
          "height": 35
        },
        "id": "D7fntMrk_UDD",
        "outputId": "6db0b1e6-b2f9-47bd-c6cc-b642757b8d73"
      },
      "execution_count": null,
      "outputs": [
        {
          "output_type": "execute_result",
          "data": {
            "text/plain": [
              "'Uwielbiam zajęcia z programowania'"
            ],
            "application/vnd.google.colaboratory.intrinsic+json": {
              "type": "string"
            }
          },
          "metadata": {},
          "execution_count": 100
        }
      ]
    },
    {
      "cell_type": "code",
      "source": [
        "ciag_znakow[1::3]"
      ],
      "metadata": {
        "colab": {
          "base_uri": "https://localhost:8080/",
          "height": 35
        },
        "id": "uPlY6aN2AWBb",
        "outputId": "36036976-3560-4a4b-837f-72977527983e"
      },
      "execution_count": null,
      "outputs": [
        {
          "output_type": "execute_result",
          "data": {
            "text/plain": [
              "'wlazęa oawi'"
            ],
            "application/vnd.google.colaboratory.intrinsic+json": {
              "type": "string"
            }
          },
          "metadata": {},
          "execution_count": 28
        }
      ]
    },
    {
      "cell_type": "code",
      "source": [
        "#Zadanie2"
      ],
      "metadata": {
        "id": "Qs26i0fYA2kC"
      },
      "execution_count": null,
      "outputs": []
    },
    {
      "cell_type": "code",
      "source": [
        "napis = \"Czarny to mój ulubiony kolor, niestety kolor czarny bardzo szybko spiera się z moich ubrań\""
      ],
      "metadata": {
        "id": "UM55x2DLA8mK"
      },
      "execution_count": 86,
      "outputs": []
    },
    {
      "cell_type": "code",
      "source": [
        "napis.isupper()"
      ],
      "metadata": {
        "colab": {
          "base_uri": "https://localhost:8080/"
        },
        "id": "5dEAqd71BQHK",
        "outputId": "18416f3a-e56b-487a-b114-7d4a27e39f4b"
      },
      "execution_count": 65,
      "outputs": [
        {
          "output_type": "execute_result",
          "data": {
            "text/plain": [
              "False"
            ]
          },
          "metadata": {},
          "execution_count": 65
        }
      ]
    },
    {
      "cell_type": "code",
      "source": [
        "napis.startswith(\"C\")"
      ],
      "metadata": {
        "colab": {
          "base_uri": "https://localhost:8080/"
        },
        "id": "Yaxl_9SuEHKA",
        "outputId": "50f1bd7d-f074-4ebe-bf84-6002c706b25e"
      },
      "execution_count": 66,
      "outputs": [
        {
          "output_type": "execute_result",
          "data": {
            "text/plain": [
              "True"
            ]
          },
          "metadata": {},
          "execution_count": 66
        }
      ]
    },
    {
      "cell_type": "code",
      "source": [
        "napis = napis.lower()"
      ],
      "metadata": {
        "id": "7lXz8G_WE4In"
      },
      "execution_count": 87,
      "outputs": []
    },
    {
      "cell_type": "code",
      "source": [
        "napis = napis.replace(\"czarny\", \"zielony\")"
      ],
      "metadata": {
        "id": "C9nnEyKtF0mz"
      },
      "execution_count": 102,
      "outputs": []
    },
    {
      "cell_type": "code",
      "source": [
        "napis = napis.capitalize()"
      ],
      "metadata": {
        "id": "NeWtLEzri1bi"
      },
      "execution_count": 103,
      "outputs": []
    },
    {
      "cell_type": "code",
      "source": [
        "print(napis)"
      ],
      "metadata": {
        "colab": {
          "base_uri": "https://localhost:8080/"
        },
        "id": "6iQDqjodizTs",
        "outputId": "c96c4250-1dfb-4c60-ff32-4023993d3ed3"
      },
      "execution_count": 104,
      "outputs": [
        {
          "output_type": "stream",
          "name": "stdout",
          "text": [
            "Zielony to mój ulubiony kolor, niestety kolor zielony bardzo szybko spiera się z moich ubrań\n"
          ]
        }
      ]
    }
  ]
}