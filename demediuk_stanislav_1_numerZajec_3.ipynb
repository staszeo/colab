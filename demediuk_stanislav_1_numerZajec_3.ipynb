{
  "nbformat": 4,
  "nbformat_minor": 0,
  "metadata": {
    "colab": {
      "provenance": []
    },
    "kernelspec": {
      "name": "python3",
      "display_name": "Python 3"
    },
    "language_info": {
      "name": "python"
    }
  },
  "cells": [
    {
      "cell_type": "code",
      "execution_count": 26,
      "metadata": {
        "colab": {
          "base_uri": "https://localhost:8080/"
        },
        "id": "KNQ-we6VFG0u",
        "outputId": "ad1cc7d8-b366-4339-fd58-e671cfe1b3d8"
      },
      "outputs": [
        {
          "output_type": "stream",
          "name": "stdout",
          "text": [
            "Imię: wwww\n",
            "Nazwisko: sss\n",
            "Wiek: sss\n",
            "Błędne dane użytkowniku \n",
            "Hasło: sss\n",
            "Powtórz hasło: ssss\n",
            "Hasła nie są zgodne \n",
            "Podaj numer telefonu: sssss\n",
            "Niepoprawny format numeru telefonu \n",
            "Rejestracja nie powiodła się z powodu niepoprawnych danych \n"
          ]
        }
      ],
      "source": [
        "#Rejestracja\n",
        "first_name = input(\"Imię: \")\n",
        "last_name = input(\"Nazwisko: \")\n",
        "age = input (\"Wiek: \")\n",
        "if age.isdigit():\n",
        "  age_int = int(age)\n",
        "else:\n",
        "  print(\"Błędne dane użytkowniku \")\n",
        "  age_int = Nones\n",
        "password = input (\"Hasło: \")\n",
        "password2 = input (\"Powtórz hasło: \")\n",
        "if password == password2:\n",
        "  print(\"Hasła są zgodne \")\n",
        "else:\n",
        "  print(\"Hasła nie są zgodne \")\n",
        "  password = None\n",
        "phone_number = input(\"Podaj numer telefonu: \")\n",
        "cleaned_phone_number = phone_number.replace(\" \", \"\").replace(\"-\", \"\")\n",
        "if cleaned_phone_number.isdigit() and len(cleaned_phone_number) == 9:\n",
        "  phone_number = cleaned_phone_number\n",
        "else:\n",
        "  print(\"Niepoprawny format numeru telefonu \")\n",
        "  phone_number = None\n",
        "if age_int is not None and password is not None and phone_number is not None:\n",
        "    print(\"Podsumowanie wprowadzonych danych:\")\n",
        "    print(\"Imię: (first_name)\")\n",
        "    print(\"Nazwisko: (last_name)\")\n",
        "    print(\"Wiek: (age_int)\")\n",
        "    print(\"Numer telefonu: (phone_number)\")\n",
        "    print(\"Rejestracja zakończona pomyślnie! \")\n",
        "else:\n",
        "    print(\"Rejestracja nie powiodła się z powodu niepoprawnych danych \")"
      ]
    },
    {
      "cell_type": "code",
      "source": [
        "#Kalkulator\n",
        "while True:\n",
        "    wybor = input(\"Wybierz operację (1. +, 2. -, 3. *, 4. /): \")\n",
        "\n",
        "    a = input(\"Podaj pierwszą liczbę: \")\n",
        "    b = input(\"Podaj drugą liczbę: \")\n",
        "\n",
        "    if a.isdigit() and b.isdigit():\n",
        "        a = float(a)\n",
        "        b = float(b)\n",
        "\n",
        "        if wybor == '1':\n",
        "            print(\"Wynik:\", a + b)\n",
        "        elif wybor == '2':\n",
        "            print(\"Wynik:\", a - b)\n",
        "        elif wybor == '3':\n",
        "            print(\"Wynik:\", a * b)\n",
        "        elif wybor == '4':\n",
        "            if b != 0:\n",
        "                print(\"Wynik:\", a / b)\n",
        "            else:\n",
        "                print(\"Nie można dzielić przez zero! \")\n",
        "        else:\n",
        "            print(\"Niepoprawny wybór operacji! \")\n",
        "    else:\n",
        "        print(\"Proszę wprowadzić poprawne liczby! \")"
      ],
      "metadata": {
        "colab": {
          "base_uri": "https://localhost:8080/"
        },
        "id": "LIdxpmB37vGl",
        "outputId": "cf51808e-bf5e-4a8b-d474-7d4ff1db2c61"
      },
      "execution_count": null,
      "outputs": [
        {
          "output_type": "stream",
          "name": "stdout",
          "text": [
            "Wybierz operację (1. +, 2. -, 3. *, 4. /): 4\n",
            "Podaj pierwszą liczbę: 454\n",
            "Podaj drugą liczbę: 555\n",
            "Wynik: 0.818018018018018\n",
            "Wybierz operację (1. +, 2. -, 3. *, 4. /): 3\n",
            "Podaj pierwszą liczbę: 444\n",
            "Podaj drugą liczbę: ffff\n",
            "Proszę wprowadzić poprawne liczby! \n",
            "Wybierz operację (1. +, 2. -, 3. *, 4. /): 4\n",
            "Podaj pierwszą liczbę: 5\n",
            "Podaj drugą liczbę: 0\n",
            "Nie można dzielić przez zero! \n"
          ]
        }
      ]
    }
  ]
}