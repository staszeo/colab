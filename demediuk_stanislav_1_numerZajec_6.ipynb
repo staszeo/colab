{
  "nbformat": 4,
  "nbformat_minor": 0,
  "metadata": {
    "colab": {
      "provenance": []
    },
    "kernelspec": {
      "name": "python3",
      "display_name": "Python 3"
    },
    "language_info": {
      "name": "python"
    }
  },
  "cells": [
    {
      "cell_type": "code",
      "execution_count": 4,
      "metadata": {
        "id": "dNZ8h7hToqKV"
      },
      "outputs": [],
      "source": [
        "import re"
      ]
    },
    {
      "cell_type": "code",
      "source": [
        "tekst1 = \"Imię i nazwisko: Jarosz, Ania. Data urodzenia: 7 czerwca 1993. Numer telefonu: 123-456-789\"\n",
        "tekst2 = \"Imię i nazwisko: Mickiewicz, Adam. Data urodzenia: 22 stycznia 1877. Numer telefonu: 789456123\""
      ],
      "metadata": {
        "id": "8DX7s3qQo2Zx"
      },
      "execution_count": 5,
      "outputs": []
    },
    {
      "cell_type": "code",
      "source": [
        "teksty = [tekst1, tekst2]"
      ],
      "metadata": {
        "id": "MRb6bvtJpDWh"
      },
      "execution_count": 6,
      "outputs": []
    },
    {
      "cell_type": "code",
      "source": [
        "def wyciagnij_dane(teksty, regex):\n",
        "    return [re.search(regex, tekst).group(1) for tekst in teksty]"
      ],
      "metadata": {
        "id": "decphq8n-7-s"
      },
      "execution_count": 10,
      "outputs": []
    },
    {
      "cell_type": "code",
      "source": [
        "regex_imie_nazwisko = r\"Imię i nazwisko: ([\\w\\s,]+)\\.\"\n",
        "regex_data_urodzenia = r\"Data urodzenia: ([\\d\\s\\w]+)\\.\"\n",
        "regex_numer_telefonu = r\"Numer telefonu: ([\\d-]+)\""
      ],
      "metadata": {
        "id": "NXZs9xshpHV8"
      },
      "execution_count": 11,
      "outputs": []
    },
    {
      "cell_type": "code",
      "source": [
        "imiona_nazwiska = wyciagnij_dane(teksty, regex_imie_nazwisko)\n",
        "daty_urodzenia = wyciagnij_dane(teksty, regex_data_urodzenia)\n",
        "numery_telefonu = wyciagnij_dane(teksty, regex_numer_telefonu)"
      ],
      "metadata": {
        "id": "J3_-QTjhpLAP"
      },
      "execution_count": 12,
      "outputs": []
    },
    {
      "cell_type": "code",
      "source": [
        "print(\"Imiona i nazwiska:\", imiona_nazwiska)\n",
        "print(\"Daty urodzenia:\", daty_urodzenia)\n",
        "print(\"Numery telefonu:\", numery_telefonu)"
      ],
      "metadata": {
        "colab": {
          "base_uri": "https://localhost:8080/"
        },
        "id": "gl3Iy1-GpO4c",
        "outputId": "fa5023ef-1fbf-4416-cb3d-12cb6dd26133"
      },
      "execution_count": 14,
      "outputs": [
        {
          "output_type": "stream",
          "name": "stdout",
          "text": [
            "Imiona i nazwiska: ['Jarosz, Ania', 'Mickiewicz, Adam']\n",
            "Daty urodzenia: ['7 czerwca 1993', '22 stycznia 1877']\n",
            "Numery telefonu: ['123-456-789', '789456123']\n"
          ]
        }
      ]
    }
  ]
}